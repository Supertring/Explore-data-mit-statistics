{
 "cells": [
  {
   "cell_type": "markdown",
   "id": "0c0bd95a",
   "metadata": {},
   "source": [
    "# Descriptive statistics"
   ]
  },
  {
   "cell_type": "code",
   "execution_count": 17,
   "id": "21505158",
   "metadata": {},
   "outputs": [],
   "source": [
    "import numpy as np\n",
    "import pandas as pd\n",
    "import matplotlib.pyplot as plt\n",
    "import seaborn as sns"
   ]
  },
  {
   "cell_type": "code",
   "execution_count": 2,
   "id": "b2968f05",
   "metadata": {},
   "outputs": [],
   "source": [
    "ratings = pd.read_csv('datasets/teachingratings.csv')"
   ]
  },
  {
   "cell_type": "code",
   "execution_count": 3,
   "id": "6b62151f",
   "metadata": {},
   "outputs": [
    {
     "name": "stdout",
     "output_type": "stream",
     "text": [
      "<class 'pandas.core.frame.DataFrame'>\n",
      "RangeIndex: 463 entries, 0 to 462\n",
      "Data columns (total 19 columns):\n",
      " #   Column           Non-Null Count  Dtype  \n",
      "---  ------           --------------  -----  \n",
      " 0   minority         463 non-null    object \n",
      " 1   age              463 non-null    int64  \n",
      " 2   gender           463 non-null    object \n",
      " 3   credits          463 non-null    object \n",
      " 4   beauty           463 non-null    float64\n",
      " 5   eval             463 non-null    float64\n",
      " 6   division         463 non-null    object \n",
      " 7   native           463 non-null    object \n",
      " 8   tenure           463 non-null    object \n",
      " 9   students         463 non-null    int64  \n",
      " 10  allstudents      463 non-null    int64  \n",
      " 11  prof             463 non-null    int64  \n",
      " 12  PrimaryLast      463 non-null    int64  \n",
      " 13  vismin           463 non-null    int64  \n",
      " 14  female           463 non-null    int64  \n",
      " 15  single_credit    463 non-null    int64  \n",
      " 16  upper_division   463 non-null    int64  \n",
      " 17  English_speaker  463 non-null    int64  \n",
      " 18  tenured_prof     463 non-null    int64  \n",
      "dtypes: float64(2), int64(11), object(6)\n",
      "memory usage: 68.9+ KB\n"
     ]
    }
   ],
   "source": [
    "ratings.info()"
   ]
  },
  {
   "cell_type": "markdown",
   "id": "b3b67d03",
   "metadata": {},
   "source": [
    "|Variable|Description|\n",
    "|--|--|\n",
    "|minority| \tDoes the instructor belong to a minority (non-Caucasian) group?|\n",
    "|age\t|The professor's age|\n",
    "| gender\t|Indicating whether the instructor was male or female.|\n",
    "| credits\t|Is the course a single-credit elective?|\n",
    "| beauty\t|Rating of the instructor's physical appearance by a panel of six students averaged across the six panelists and standardized to have a mean of zero.|\n",
    "| eval\t|Course overall teaching evaluation score, on a scale of 1 (very unsatisfactory) to 5 (excellent).|\n",
    "| division\t|Is the course an upper or lower division course?|\n",
    "| native\t|Is the instructor a native English speaker?|\n",
    "| tenure\t|Is the instructor on a tenure track?|\n",
    "| students\t|Number of students that participated in the evaluation.|\n",
    "| allstudents\t|Number of students enrolled in the course.|\n",
    "| prof\t|Indicating instructor identifier.|\n"
   ]
  },
  {
   "cell_type": "code",
   "execution_count": null,
   "id": "5cf35ec6",
   "metadata": {},
   "outputs": [],
   "source": []
  },
  {
   "cell_type": "markdown",
   "id": "505eb3de",
   "metadata": {},
   "source": [
    "# Task\n",
    "* Identify whether the teachers Rating data is a time series or cross-sectional?\n",
    "    * Does it have a date or time variable?\n",
    "        * No, it is not a timeseries data\n",
    "    * Does it observe more than one teacher being rated?\n",
    "        * Yes, its corss-sectional datasets\n",
    "  > The dataset is crosssectional"
   ]
  },
  {
   "cell_type": "code",
   "execution_count": 8,
   "id": "0ecb72dc",
   "metadata": {},
   "outputs": [
    {
     "data": {
      "text/html": [
       "<div>\n",
       "<style scoped>\n",
       "    .dataframe tbody tr th:only-of-type {\n",
       "        vertical-align: middle;\n",
       "    }\n",
       "\n",
       "    .dataframe tbody tr th {\n",
       "        vertical-align: top;\n",
       "    }\n",
       "\n",
       "    .dataframe thead th {\n",
       "        text-align: right;\n",
       "    }\n",
       "</style>\n",
       "<table border=\"1\" class=\"dataframe\">\n",
       "  <thead>\n",
       "    <tr style=\"text-align: right;\">\n",
       "      <th></th>\n",
       "      <th>minority</th>\n",
       "      <th>age</th>\n",
       "      <th>gender</th>\n",
       "      <th>credits</th>\n",
       "      <th>beauty</th>\n",
       "      <th>eval</th>\n",
       "      <th>division</th>\n",
       "      <th>native</th>\n",
       "      <th>tenure</th>\n",
       "      <th>students</th>\n",
       "      <th>allstudents</th>\n",
       "      <th>prof</th>\n",
       "      <th>PrimaryLast</th>\n",
       "      <th>vismin</th>\n",
       "      <th>female</th>\n",
       "      <th>single_credit</th>\n",
       "      <th>upper_division</th>\n",
       "      <th>English_speaker</th>\n",
       "      <th>tenured_prof</th>\n",
       "    </tr>\n",
       "  </thead>\n",
       "  <tbody>\n",
       "    <tr>\n",
       "      <th>0</th>\n",
       "      <td>yes</td>\n",
       "      <td>36</td>\n",
       "      <td>female</td>\n",
       "      <td>more</td>\n",
       "      <td>0.289916</td>\n",
       "      <td>4.3</td>\n",
       "      <td>upper</td>\n",
       "      <td>yes</td>\n",
       "      <td>yes</td>\n",
       "      <td>24</td>\n",
       "      <td>43</td>\n",
       "      <td>1</td>\n",
       "      <td>0</td>\n",
       "      <td>1</td>\n",
       "      <td>1</td>\n",
       "      <td>0</td>\n",
       "      <td>1</td>\n",
       "      <td>1</td>\n",
       "      <td>1</td>\n",
       "    </tr>\n",
       "    <tr>\n",
       "      <th>1</th>\n",
       "      <td>yes</td>\n",
       "      <td>36</td>\n",
       "      <td>female</td>\n",
       "      <td>more</td>\n",
       "      <td>0.289916</td>\n",
       "      <td>3.7</td>\n",
       "      <td>upper</td>\n",
       "      <td>yes</td>\n",
       "      <td>yes</td>\n",
       "      <td>86</td>\n",
       "      <td>125</td>\n",
       "      <td>1</td>\n",
       "      <td>0</td>\n",
       "      <td>1</td>\n",
       "      <td>1</td>\n",
       "      <td>0</td>\n",
       "      <td>1</td>\n",
       "      <td>1</td>\n",
       "      <td>1</td>\n",
       "    </tr>\n",
       "    <tr>\n",
       "      <th>2</th>\n",
       "      <td>yes</td>\n",
       "      <td>36</td>\n",
       "      <td>female</td>\n",
       "      <td>more</td>\n",
       "      <td>0.289916</td>\n",
       "      <td>3.6</td>\n",
       "      <td>upper</td>\n",
       "      <td>yes</td>\n",
       "      <td>yes</td>\n",
       "      <td>76</td>\n",
       "      <td>125</td>\n",
       "      <td>1</td>\n",
       "      <td>0</td>\n",
       "      <td>1</td>\n",
       "      <td>1</td>\n",
       "      <td>0</td>\n",
       "      <td>1</td>\n",
       "      <td>1</td>\n",
       "      <td>1</td>\n",
       "    </tr>\n",
       "    <tr>\n",
       "      <th>3</th>\n",
       "      <td>yes</td>\n",
       "      <td>36</td>\n",
       "      <td>female</td>\n",
       "      <td>more</td>\n",
       "      <td>0.289916</td>\n",
       "      <td>4.4</td>\n",
       "      <td>upper</td>\n",
       "      <td>yes</td>\n",
       "      <td>yes</td>\n",
       "      <td>77</td>\n",
       "      <td>123</td>\n",
       "      <td>1</td>\n",
       "      <td>1</td>\n",
       "      <td>1</td>\n",
       "      <td>1</td>\n",
       "      <td>0</td>\n",
       "      <td>1</td>\n",
       "      <td>1</td>\n",
       "      <td>1</td>\n",
       "    </tr>\n",
       "    <tr>\n",
       "      <th>4</th>\n",
       "      <td>no</td>\n",
       "      <td>59</td>\n",
       "      <td>male</td>\n",
       "      <td>more</td>\n",
       "      <td>-0.737732</td>\n",
       "      <td>4.5</td>\n",
       "      <td>upper</td>\n",
       "      <td>yes</td>\n",
       "      <td>yes</td>\n",
       "      <td>17</td>\n",
       "      <td>20</td>\n",
       "      <td>2</td>\n",
       "      <td>0</td>\n",
       "      <td>0</td>\n",
       "      <td>0</td>\n",
       "      <td>0</td>\n",
       "      <td>1</td>\n",
       "      <td>1</td>\n",
       "      <td>1</td>\n",
       "    </tr>\n",
       "    <tr>\n",
       "      <th>5</th>\n",
       "      <td>no</td>\n",
       "      <td>59</td>\n",
       "      <td>male</td>\n",
       "      <td>more</td>\n",
       "      <td>-0.737732</td>\n",
       "      <td>4.0</td>\n",
       "      <td>upper</td>\n",
       "      <td>yes</td>\n",
       "      <td>yes</td>\n",
       "      <td>35</td>\n",
       "      <td>40</td>\n",
       "      <td>2</td>\n",
       "      <td>0</td>\n",
       "      <td>0</td>\n",
       "      <td>0</td>\n",
       "      <td>0</td>\n",
       "      <td>1</td>\n",
       "      <td>1</td>\n",
       "      <td>1</td>\n",
       "    </tr>\n",
       "    <tr>\n",
       "      <th>6</th>\n",
       "      <td>no</td>\n",
       "      <td>59</td>\n",
       "      <td>male</td>\n",
       "      <td>more</td>\n",
       "      <td>-0.737732</td>\n",
       "      <td>2.1</td>\n",
       "      <td>upper</td>\n",
       "      <td>yes</td>\n",
       "      <td>yes</td>\n",
       "      <td>39</td>\n",
       "      <td>44</td>\n",
       "      <td>2</td>\n",
       "      <td>1</td>\n",
       "      <td>0</td>\n",
       "      <td>0</td>\n",
       "      <td>0</td>\n",
       "      <td>1</td>\n",
       "      <td>1</td>\n",
       "      <td>1</td>\n",
       "    </tr>\n",
       "    <tr>\n",
       "      <th>7</th>\n",
       "      <td>no</td>\n",
       "      <td>51</td>\n",
       "      <td>male</td>\n",
       "      <td>more</td>\n",
       "      <td>-0.571984</td>\n",
       "      <td>3.7</td>\n",
       "      <td>upper</td>\n",
       "      <td>yes</td>\n",
       "      <td>yes</td>\n",
       "      <td>55</td>\n",
       "      <td>55</td>\n",
       "      <td>3</td>\n",
       "      <td>0</td>\n",
       "      <td>0</td>\n",
       "      <td>0</td>\n",
       "      <td>0</td>\n",
       "      <td>1</td>\n",
       "      <td>1</td>\n",
       "      <td>1</td>\n",
       "    </tr>\n",
       "    <tr>\n",
       "      <th>8</th>\n",
       "      <td>no</td>\n",
       "      <td>51</td>\n",
       "      <td>male</td>\n",
       "      <td>more</td>\n",
       "      <td>-0.571984</td>\n",
       "      <td>3.2</td>\n",
       "      <td>upper</td>\n",
       "      <td>yes</td>\n",
       "      <td>yes</td>\n",
       "      <td>111</td>\n",
       "      <td>195</td>\n",
       "      <td>3</td>\n",
       "      <td>1</td>\n",
       "      <td>0</td>\n",
       "      <td>0</td>\n",
       "      <td>0</td>\n",
       "      <td>1</td>\n",
       "      <td>1</td>\n",
       "      <td>1</td>\n",
       "    </tr>\n",
       "    <tr>\n",
       "      <th>9</th>\n",
       "      <td>no</td>\n",
       "      <td>40</td>\n",
       "      <td>female</td>\n",
       "      <td>more</td>\n",
       "      <td>-0.677963</td>\n",
       "      <td>4.3</td>\n",
       "      <td>upper</td>\n",
       "      <td>yes</td>\n",
       "      <td>yes</td>\n",
       "      <td>40</td>\n",
       "      <td>46</td>\n",
       "      <td>4</td>\n",
       "      <td>0</td>\n",
       "      <td>0</td>\n",
       "      <td>1</td>\n",
       "      <td>0</td>\n",
       "      <td>1</td>\n",
       "      <td>1</td>\n",
       "      <td>1</td>\n",
       "    </tr>\n",
       "  </tbody>\n",
       "</table>\n",
       "</div>"
      ],
      "text/plain": [
       "  minority  age  gender credits    beauty  eval division native tenure  \\\n",
       "0      yes   36  female    more  0.289916   4.3    upper    yes    yes   \n",
       "1      yes   36  female    more  0.289916   3.7    upper    yes    yes   \n",
       "2      yes   36  female    more  0.289916   3.6    upper    yes    yes   \n",
       "3      yes   36  female    more  0.289916   4.4    upper    yes    yes   \n",
       "4       no   59    male    more -0.737732   4.5    upper    yes    yes   \n",
       "5       no   59    male    more -0.737732   4.0    upper    yes    yes   \n",
       "6       no   59    male    more -0.737732   2.1    upper    yes    yes   \n",
       "7       no   51    male    more -0.571984   3.7    upper    yes    yes   \n",
       "8       no   51    male    more -0.571984   3.2    upper    yes    yes   \n",
       "9       no   40  female    more -0.677963   4.3    upper    yes    yes   \n",
       "\n",
       "   students  allstudents  prof  PrimaryLast  vismin  female  single_credit  \\\n",
       "0        24           43     1            0       1       1              0   \n",
       "1        86          125     1            0       1       1              0   \n",
       "2        76          125     1            0       1       1              0   \n",
       "3        77          123     1            1       1       1              0   \n",
       "4        17           20     2            0       0       0              0   \n",
       "5        35           40     2            0       0       0              0   \n",
       "6        39           44     2            1       0       0              0   \n",
       "7        55           55     3            0       0       0              0   \n",
       "8       111          195     3            1       0       0              0   \n",
       "9        40           46     4            0       0       1              0   \n",
       "\n",
       "   upper_division  English_speaker  tenured_prof  \n",
       "0               1                1             1  \n",
       "1               1                1             1  \n",
       "2               1                1             1  \n",
       "3               1                1             1  \n",
       "4               1                1             1  \n",
       "5               1                1             1  \n",
       "6               1                1             1  \n",
       "7               1                1             1  \n",
       "8               1                1             1  \n",
       "9               1                1             1  "
      ]
     },
     "execution_count": 8,
     "metadata": {},
     "output_type": "execute_result"
    }
   ],
   "source": [
    "ratings.head(10)"
   ]
  },
  {
   "cell_type": "markdown",
   "id": "cc91d7c6",
   "metadata": {},
   "source": [
    "__Find the mean, median, minimum, and maximum values for students__"
   ]
  },
  {
   "cell_type": "code",
   "execution_count": 12,
   "id": "b9e8ccde",
   "metadata": {},
   "outputs": [
    {
     "data": {
      "text/plain": [
       "36.62419006479482"
      ]
     },
     "execution_count": 12,
     "metadata": {},
     "output_type": "execute_result"
    }
   ],
   "source": [
    "# mean value for students\n",
    "ratings['students'].mean()"
   ]
  },
  {
   "cell_type": "code",
   "execution_count": 13,
   "id": "2a647b87",
   "metadata": {},
   "outputs": [
    {
     "data": {
      "text/plain": [
       "23.0"
      ]
     },
     "execution_count": 13,
     "metadata": {},
     "output_type": "execute_result"
    }
   ],
   "source": [
    "# median value for students\n",
    "ratings['students'].median()"
   ]
  },
  {
   "cell_type": "code",
   "execution_count": 14,
   "id": "6f0985a1",
   "metadata": {},
   "outputs": [
    {
     "data": {
      "text/plain": [
       "380"
      ]
     },
     "execution_count": 14,
     "metadata": {},
     "output_type": "execute_result"
    }
   ],
   "source": [
    "# maximum value for students\n",
    "ratings['students'].max()"
   ]
  },
  {
   "cell_type": "code",
   "execution_count": 15,
   "id": "b840cba9",
   "metadata": {},
   "outputs": [
    {
     "data": {
      "text/plain": [
       "5"
      ]
     },
     "execution_count": 15,
     "metadata": {},
     "output_type": "execute_result"
    }
   ],
   "source": [
    "#minimum value of students\n",
    "ratings['students'].min()"
   ]
  },
  {
   "cell_type": "code",
   "execution_count": 16,
   "id": "05b9de31",
   "metadata": {},
   "outputs": [
    {
     "data": {
      "text/html": [
       "<div>\n",
       "<style scoped>\n",
       "    .dataframe tbody tr th:only-of-type {\n",
       "        vertical-align: middle;\n",
       "    }\n",
       "\n",
       "    .dataframe tbody tr th {\n",
       "        vertical-align: top;\n",
       "    }\n",
       "\n",
       "    .dataframe thead th {\n",
       "        text-align: right;\n",
       "    }\n",
       "</style>\n",
       "<table border=\"1\" class=\"dataframe\">\n",
       "  <thead>\n",
       "    <tr style=\"text-align: right;\">\n",
       "      <th></th>\n",
       "      <th>age</th>\n",
       "      <th>beauty</th>\n",
       "      <th>eval</th>\n",
       "      <th>students</th>\n",
       "      <th>allstudents</th>\n",
       "      <th>prof</th>\n",
       "      <th>PrimaryLast</th>\n",
       "      <th>vismin</th>\n",
       "      <th>female</th>\n",
       "      <th>single_credit</th>\n",
       "      <th>upper_division</th>\n",
       "      <th>English_speaker</th>\n",
       "      <th>tenured_prof</th>\n",
       "    </tr>\n",
       "  </thead>\n",
       "  <tbody>\n",
       "    <tr>\n",
       "      <th>count</th>\n",
       "      <td>463.000000</td>\n",
       "      <td>4.630000e+02</td>\n",
       "      <td>463.000000</td>\n",
       "      <td>463.000000</td>\n",
       "      <td>463.000000</td>\n",
       "      <td>463.000000</td>\n",
       "      <td>463.000000</td>\n",
       "      <td>463.000000</td>\n",
       "      <td>463.000000</td>\n",
       "      <td>463.000000</td>\n",
       "      <td>463.000000</td>\n",
       "      <td>463.000000</td>\n",
       "      <td>463.000000</td>\n",
       "    </tr>\n",
       "    <tr>\n",
       "      <th>mean</th>\n",
       "      <td>48.365011</td>\n",
       "      <td>6.271140e-08</td>\n",
       "      <td>3.998272</td>\n",
       "      <td>36.624190</td>\n",
       "      <td>55.177106</td>\n",
       "      <td>45.434125</td>\n",
       "      <td>0.203024</td>\n",
       "      <td>0.138229</td>\n",
       "      <td>0.421166</td>\n",
       "      <td>0.058315</td>\n",
       "      <td>0.660907</td>\n",
       "      <td>0.939525</td>\n",
       "      <td>0.779698</td>\n",
       "    </tr>\n",
       "    <tr>\n",
       "      <th>std</th>\n",
       "      <td>9.802742</td>\n",
       "      <td>7.886477e-01</td>\n",
       "      <td>0.554866</td>\n",
       "      <td>45.018481</td>\n",
       "      <td>75.072800</td>\n",
       "      <td>27.508902</td>\n",
       "      <td>0.402685</td>\n",
       "      <td>0.345513</td>\n",
       "      <td>0.494280</td>\n",
       "      <td>0.234592</td>\n",
       "      <td>0.473913</td>\n",
       "      <td>0.238623</td>\n",
       "      <td>0.414899</td>\n",
       "    </tr>\n",
       "    <tr>\n",
       "      <th>min</th>\n",
       "      <td>29.000000</td>\n",
       "      <td>-1.450494e+00</td>\n",
       "      <td>2.100000</td>\n",
       "      <td>5.000000</td>\n",
       "      <td>8.000000</td>\n",
       "      <td>1.000000</td>\n",
       "      <td>0.000000</td>\n",
       "      <td>0.000000</td>\n",
       "      <td>0.000000</td>\n",
       "      <td>0.000000</td>\n",
       "      <td>0.000000</td>\n",
       "      <td>0.000000</td>\n",
       "      <td>0.000000</td>\n",
       "    </tr>\n",
       "    <tr>\n",
       "      <th>25%</th>\n",
       "      <td>42.000000</td>\n",
       "      <td>-6.562689e-01</td>\n",
       "      <td>3.600000</td>\n",
       "      <td>15.000000</td>\n",
       "      <td>19.000000</td>\n",
       "      <td>20.000000</td>\n",
       "      <td>0.000000</td>\n",
       "      <td>0.000000</td>\n",
       "      <td>0.000000</td>\n",
       "      <td>0.000000</td>\n",
       "      <td>0.000000</td>\n",
       "      <td>1.000000</td>\n",
       "      <td>1.000000</td>\n",
       "    </tr>\n",
       "    <tr>\n",
       "      <th>50%</th>\n",
       "      <td>48.000000</td>\n",
       "      <td>-6.801430e-02</td>\n",
       "      <td>4.000000</td>\n",
       "      <td>23.000000</td>\n",
       "      <td>29.000000</td>\n",
       "      <td>44.000000</td>\n",
       "      <td>0.000000</td>\n",
       "      <td>0.000000</td>\n",
       "      <td>0.000000</td>\n",
       "      <td>0.000000</td>\n",
       "      <td>1.000000</td>\n",
       "      <td>1.000000</td>\n",
       "      <td>1.000000</td>\n",
       "    </tr>\n",
       "    <tr>\n",
       "      <th>75%</th>\n",
       "      <td>57.000000</td>\n",
       "      <td>5.456024e-01</td>\n",
       "      <td>4.400000</td>\n",
       "      <td>40.000000</td>\n",
       "      <td>60.000000</td>\n",
       "      <td>70.500000</td>\n",
       "      <td>0.000000</td>\n",
       "      <td>0.000000</td>\n",
       "      <td>1.000000</td>\n",
       "      <td>0.000000</td>\n",
       "      <td>1.000000</td>\n",
       "      <td>1.000000</td>\n",
       "      <td>1.000000</td>\n",
       "    </tr>\n",
       "    <tr>\n",
       "      <th>max</th>\n",
       "      <td>73.000000</td>\n",
       "      <td>1.970023e+00</td>\n",
       "      <td>5.000000</td>\n",
       "      <td>380.000000</td>\n",
       "      <td>581.000000</td>\n",
       "      <td>94.000000</td>\n",
       "      <td>1.000000</td>\n",
       "      <td>1.000000</td>\n",
       "      <td>1.000000</td>\n",
       "      <td>1.000000</td>\n",
       "      <td>1.000000</td>\n",
       "      <td>1.000000</td>\n",
       "      <td>1.000000</td>\n",
       "    </tr>\n",
       "  </tbody>\n",
       "</table>\n",
       "</div>"
      ],
      "text/plain": [
       "              age        beauty        eval    students  allstudents  \\\n",
       "count  463.000000  4.630000e+02  463.000000  463.000000   463.000000   \n",
       "mean    48.365011  6.271140e-08    3.998272   36.624190    55.177106   \n",
       "std      9.802742  7.886477e-01    0.554866   45.018481    75.072800   \n",
       "min     29.000000 -1.450494e+00    2.100000    5.000000     8.000000   \n",
       "25%     42.000000 -6.562689e-01    3.600000   15.000000    19.000000   \n",
       "50%     48.000000 -6.801430e-02    4.000000   23.000000    29.000000   \n",
       "75%     57.000000  5.456024e-01    4.400000   40.000000    60.000000   \n",
       "max     73.000000  1.970023e+00    5.000000  380.000000   581.000000   \n",
       "\n",
       "             prof  PrimaryLast      vismin      female  single_credit  \\\n",
       "count  463.000000   463.000000  463.000000  463.000000     463.000000   \n",
       "mean    45.434125     0.203024    0.138229    0.421166       0.058315   \n",
       "std     27.508902     0.402685    0.345513    0.494280       0.234592   \n",
       "min      1.000000     0.000000    0.000000    0.000000       0.000000   \n",
       "25%     20.000000     0.000000    0.000000    0.000000       0.000000   \n",
       "50%     44.000000     0.000000    0.000000    0.000000       0.000000   \n",
       "75%     70.500000     0.000000    0.000000    1.000000       0.000000   \n",
       "max     94.000000     1.000000    1.000000    1.000000       1.000000   \n",
       "\n",
       "       upper_division  English_speaker  tenured_prof  \n",
       "count      463.000000       463.000000    463.000000  \n",
       "mean         0.660907         0.939525      0.779698  \n",
       "std          0.473913         0.238623      0.414899  \n",
       "min          0.000000         0.000000      0.000000  \n",
       "25%          0.000000         1.000000      1.000000  \n",
       "50%          1.000000         1.000000      1.000000  \n",
       "75%          1.000000         1.000000      1.000000  \n",
       "max          1.000000         1.000000      1.000000  "
      ]
     },
     "execution_count": 16,
     "metadata": {},
     "output_type": "execute_result"
    }
   ],
   "source": [
    "# show descriptive statistics table\n",
    "ratings.describe()"
   ]
  },
  {
   "cell_type": "markdown",
   "id": "1f7be6e7",
   "metadata": {},
   "source": [
    "__Create a histogram of the beauty variable and briefly comment on the distribution data__"
   ]
  },
  {
   "cell_type": "code",
   "execution_count": 22,
   "id": "7f721bdb",
   "metadata": {},
   "outputs": [
    {
     "data": {
      "text/plain": [
       "(array([16., 51., 94., 66., 94., 42., 29., 40., 11., 20.]),\n",
       " array([-1.45049405, -1.10844234, -0.76639063, -0.42433892, -0.08228722,\n",
       "         0.25976449,  0.6018162 ,  0.94386791,  1.28591962,  1.62797133,\n",
       "         1.97002304]),\n",
       " <BarContainer object of 10 artists>)"
      ]
     },
     "execution_count": 22,
     "metadata": {},
     "output_type": "execute_result"
    },
    {
     "data": {
      "image/png": "[encoded data removed]",
      "text/plain": [
       "<Figure size 432x288 with 1 Axes>"
      ]
     },
     "metadata": {
      "needs_background": "light"
     },
     "output_type": "display_data"
    }
   ],
   "source": [
    "plt.hist(ratings['beauty'])"
   ]
  },
  {
   "cell_type": "markdown",
   "id": "b12ad8ee",
   "metadata": {},
   "source": [
    "__Analysis__\n",
    "* Most of the beauty data is around -1 to 0\n",
    "* The distribution is skewed towards right\n",
    "* The mean is close to zero"
   ]
  },
  {
   "cell_type": "code",
   "execution_count": 25,
   "id": "5b22f538",
   "metadata": {},
   "outputs": [
    {
     "data": {
      "text/plain": [
       "6.271139975345787e-08"
      ]
     },
     "execution_count": 25,
     "metadata": {},
     "output_type": "execute_result"
    }
   ],
   "source": [
    "ratings['beauty'].mean()"
   ]
  },
  {
   "cell_type": "markdown",
   "id": "c7b3a557",
   "metadata": {},
   "source": [
    "__Does average beauty score differ by gender? Produce the means and standard deviations for both male and female instructors.__"
   ]
  },
  {
   "cell_type": "code",
   "execution_count": 31,
   "id": "33c288e0",
   "metadata": {},
   "outputs": [
    {
     "data": {
      "text/html": [
       "<div>\n",
       "<style scoped>\n",
       "    .dataframe tbody tr th:only-of-type {\n",
       "        vertical-align: middle;\n",
       "    }\n",
       "\n",
       "    .dataframe tbody tr th {\n",
       "        vertical-align: top;\n",
       "    }\n",
       "\n",
       "    .dataframe thead tr th {\n",
       "        text-align: left;\n",
       "    }\n",
       "</style>\n",
       "<table border=\"1\" class=\"dataframe\">\n",
       "  <thead>\n",
       "    <tr>\n",
       "      <th></th>\n",
       "      <th>gender</th>\n",
       "      <th colspan=\"3\" halign=\"left\">beauty</th>\n",
       "    </tr>\n",
       "    <tr>\n",
       "      <th></th>\n",
       "      <th></th>\n",
       "      <th>mean</th>\n",
       "      <th>std</th>\n",
       "      <th>var</th>\n",
       "    </tr>\n",
       "  </thead>\n",
       "  <tbody>\n",
       "    <tr>\n",
       "      <th>0</th>\n",
       "      <td>female</td>\n",
       "      <td>0.116109</td>\n",
       "      <td>0.81781</td>\n",
       "      <td>0.668813</td>\n",
       "    </tr>\n",
       "    <tr>\n",
       "      <th>1</th>\n",
       "      <td>male</td>\n",
       "      <td>-0.084482</td>\n",
       "      <td>0.75713</td>\n",
       "      <td>0.573246</td>\n",
       "    </tr>\n",
       "  </tbody>\n",
       "</table>\n",
       "</div>"
      ],
      "text/plain": [
       "   gender    beauty                   \n",
       "               mean      std       var\n",
       "0  female  0.116109  0.81781  0.668813\n",
       "1    male -0.084482  0.75713  0.573246"
      ]
     },
     "execution_count": 31,
     "metadata": {},
     "output_type": "execute_result"
    }
   ],
   "source": [
    "ratings.groupby('gender').agg({'beauty':['mean','std','var']}).reset_index()"
   ]
  },
  {
   "cell_type": "markdown",
   "id": "7046714c",
   "metadata": {},
   "source": [
    "# Task\n",
    "\n",
    "__Calculate the percentage of visible minorities are tenure professors. Will you say that tenure status differed if teacher was a visible minority??__"
   ]
  },
  {
   "cell_type": "code",
   "execution_count": 34,
   "id": "19e1921f",
   "metadata": {},
   "outputs": [
    {
     "data": {
      "text/html": [
       "<div>\n",
       "<style scoped>\n",
       "    .dataframe tbody tr th:only-of-type {\n",
       "        vertical-align: middle;\n",
       "    }\n",
       "\n",
       "    .dataframe tbody tr th {\n",
       "        vertical-align: top;\n",
       "    }\n",
       "\n",
       "    .dataframe thead th {\n",
       "        text-align: right;\n",
       "    }\n",
       "</style>\n",
       "<table border=\"1\" class=\"dataframe\">\n",
       "  <thead>\n",
       "    <tr style=\"text-align: right;\">\n",
       "      <th></th>\n",
       "      <th>minority</th>\n",
       "      <th>tenure</th>\n",
       "    </tr>\n",
       "  </thead>\n",
       "  <tbody>\n",
       "    <tr>\n",
       "      <th>0</th>\n",
       "      <td>no</td>\n",
       "      <td>399</td>\n",
       "    </tr>\n",
       "    <tr>\n",
       "      <th>1</th>\n",
       "      <td>yes</td>\n",
       "      <td>64</td>\n",
       "    </tr>\n",
       "  </tbody>\n",
       "</table>\n",
       "</div>"
      ],
      "text/plain": [
       "  minority  tenure\n",
       "0       no     399\n",
       "1      yes      64"
      ]
     },
     "execution_count": 34,
     "metadata": {},
     "output_type": "execute_result"
    }
   ],
   "source": [
    "tenure_count = ratings.groupby('minority').agg({'tenure': 'count'}).reset_index()\n",
    "tenure_count"
   ]
  },
  {
   "cell_type": "code",
   "execution_count": 35,
   "id": "610c73b1",
   "metadata": {},
   "outputs": [],
   "source": [
    "tenure_count['percentage'] = 100 * tenure_count.tenure/tenure_count.tenure.sum()"
   ]
  },
  {
   "cell_type": "code",
   "execution_count": 36,
   "id": "5c4855de",
   "metadata": {},
   "outputs": [
    {
     "data": {
      "text/html": [
       "<div>\n",
       "<style scoped>\n",
       "    .dataframe tbody tr th:only-of-type {\n",
       "        vertical-align: middle;\n",
       "    }\n",
       "\n",
       "    .dataframe tbody tr th {\n",
       "        vertical-align: top;\n",
       "    }\n",
       "\n",
       "    .dataframe thead th {\n",
       "        text-align: right;\n",
       "    }\n",
       "</style>\n",
       "<table border=\"1\" class=\"dataframe\">\n",
       "  <thead>\n",
       "    <tr style=\"text-align: right;\">\n",
       "      <th></th>\n",
       "      <th>minority</th>\n",
       "      <th>tenure</th>\n",
       "      <th>percentage</th>\n",
       "    </tr>\n",
       "  </thead>\n",
       "  <tbody>\n",
       "    <tr>\n",
       "      <th>0</th>\n",
       "      <td>no</td>\n",
       "      <td>399</td>\n",
       "      <td>86.177106</td>\n",
       "    </tr>\n",
       "    <tr>\n",
       "      <th>1</th>\n",
       "      <td>yes</td>\n",
       "      <td>64</td>\n",
       "      <td>13.822894</td>\n",
       "    </tr>\n",
       "  </tbody>\n",
       "</table>\n",
       "</div>"
      ],
      "text/plain": [
       "  minority  tenure  percentage\n",
       "0       no     399   86.177106\n",
       "1      yes      64   13.822894"
      ]
     },
     "execution_count": 36,
     "metadata": {},
     "output_type": "execute_result"
    }
   ],
   "source": [
    "tenure_count"
   ]
  },
  {
   "cell_type": "markdown",
   "id": "f67e1cc2",
   "metadata": {},
   "source": [
    "__Analysis__\n",
    "* From the analysis, it shows tenure status differed if the teacher was a minority"
   ]
  },
  {
   "cell_type": "markdown",
   "id": "cf771dbe",
   "metadata": {},
   "source": [
    "# Task\n",
    "__Does average age differ by tenure? Produce the means and standard deviations for both tenured and untenured professors.__"
   ]
  },
  {
   "cell_type": "code",
   "execution_count": 38,
   "id": "6e5265d8",
   "metadata": {},
   "outputs": [
    {
     "data": {
      "text/html": [
       "<div>\n",
       "<style scoped>\n",
       "    .dataframe tbody tr th:only-of-type {\n",
       "        vertical-align: middle;\n",
       "    }\n",
       "\n",
       "    .dataframe tbody tr th {\n",
       "        vertical-align: top;\n",
       "    }\n",
       "\n",
       "    .dataframe thead tr th {\n",
       "        text-align: left;\n",
       "    }\n",
       "</style>\n",
       "<table border=\"1\" class=\"dataframe\">\n",
       "  <thead>\n",
       "    <tr>\n",
       "      <th></th>\n",
       "      <th>tenure</th>\n",
       "      <th colspan=\"2\" halign=\"left\">age</th>\n",
       "    </tr>\n",
       "    <tr>\n",
       "      <th></th>\n",
       "      <th></th>\n",
       "      <th>mean</th>\n",
       "      <th>std</th>\n",
       "    </tr>\n",
       "  </thead>\n",
       "  <tbody>\n",
       "    <tr>\n",
       "      <th>0</th>\n",
       "      <td>no</td>\n",
       "      <td>50.186275</td>\n",
       "      <td>6.946372</td>\n",
       "    </tr>\n",
       "    <tr>\n",
       "      <th>1</th>\n",
       "      <td>yes</td>\n",
       "      <td>47.850416</td>\n",
       "      <td>10.420056</td>\n",
       "    </tr>\n",
       "  </tbody>\n",
       "</table>\n",
       "</div>"
      ],
      "text/plain": [
       "  tenure        age           \n",
       "               mean        std\n",
       "0     no  50.186275   6.946372\n",
       "1    yes  47.850416  10.420056"
      ]
     },
     "execution_count": 38,
     "metadata": {},
     "output_type": "execute_result"
    }
   ],
   "source": [
    "ratings.groupby('tenure').agg({'age':['mean','std']}).reset_index()"
   ]
  },
  {
   "cell_type": "markdown",
   "id": "5fe80daf",
   "metadata": {},
   "source": [
    "__Analysis__\n",
    "* There is not much of difference in average age due to tenure"
   ]
  },
  {
   "cell_type": "markdown",
   "id": "7b76d2e4",
   "metadata": {},
   "source": [
    "# Task\n",
    "__Create a histogram for the age variable__"
   ]
  },
  {
   "cell_type": "code",
   "execution_count": 39,
   "id": "3185f2b0",
   "metadata": {},
   "outputs": [
    {
     "data": {
      "text/plain": [
       "(array([41., 37., 58., 48., 75., 74., 53., 69.,  0.,  8.]),\n",
       " array([29. , 33.4, 37.8, 42.2, 46.6, 51. , 55.4, 59.8, 64.2, 68.6, 73. ]),\n",
       " <BarContainer object of 10 artists>)"
      ]
     },
     "execution_count": 39,
     "metadata": {},
     "output_type": "execute_result"
    },
    {
     "data": {
      "image/png": "[encoded data removed]",
      "text/plain": [
       "<Figure size 432x288 with 1 Axes>"
      ]
     },
     "metadata": {
      "needs_background": "light"
     },
     "output_type": "display_data"
    }
   ],
   "source": [
    "plt.hist(ratings['age'])"
   ]
  },
  {
   "cell_type": "code",
   "execution_count": 43,
   "id": "4bbf657c",
   "metadata": {},
   "outputs": [
    {
     "data": {
      "text/plain": [
       "<AxesSubplot:xlabel='age', ylabel='Count'>"
      ]
     },
     "execution_count": 43,
     "metadata": {},
     "output_type": "execute_result"
    },
    {
     "data": {
      "image/png": "[encoded data removed]",
      "text/plain": [
       "<Figure size 432x288 with 1 Axes>"
      ]
     },
     "metadata": {
      "needs_background": "light"
     },
     "output_type": "display_data"
    }
   ],
   "source": [
    "sns.histplot(x='age', data=ratings)"
   ]
  },
  {
   "cell_type": "markdown",
   "id": "05980e0d",
   "metadata": {},
   "source": [
    "__What is the median evaluation score for the tenured professors?__"
   ]
  },
  {
   "cell_type": "code",
   "execution_count": 44,
   "id": "1f92acf8",
   "metadata": {},
   "outputs": [
    {
     "data": {
      "text/plain": [
       "4.0"
      ]
     },
     "execution_count": 44,
     "metadata": {},
     "output_type": "execute_result"
    }
   ],
   "source": [
    "ratings[ratings['tenure']=='yes']['eval'].median()"
   ]
  },
  {
   "cell_type": "code",
   "execution_count": null,
   "id": "9d0b846f",
   "metadata": {},
   "outputs": [],
   "source": []
  }
 ],
 "metadata": {
  "kernelspec": {
   "display_name": "Python 3 (ipykernel)",
   "language": "python",
   "name": "python3"
  },
  "language_info": {
   "codemirror_mode": {
    "name": "ipython",
    "version": 3
   },
   "file_extension": ".py",
   "mimetype": "text/x-python",
   "name": "python",
   "nbconvert_exporter": "python",
   "pygments_lexer": "ipython3",
   "version": "3.10.12"
  }
 },
 "nbformat": 4,
 "nbformat_minor": 5
}
